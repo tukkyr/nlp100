{
 "cells": [
  {
   "cell_type": "markdown",
   "metadata": {
    "collapsed": true
   },
   "source": [
    "## 09. Typoglycemia\n",
    "スペースで区切られた単語列に対して，各単語の先頭と末尾の文字は残し，それ以外の文字の順序をランダムに並び替えるプログラムを作成せよ．ただし，長さが４以下の単語は並び替えないこととする．適当な英語の文（例えば\"I couldn't believe that I could actually understand what I was reading : the phenomenal power of the human mind .\"）を与え，その実行結果を確認せよ．"
   ]
  },
  {
   "cell_type": "code",
   "execution_count": 1,
   "metadata": {
    "collapsed": false,
    "scrolled": true
   },
   "outputs": [
    {
     "data": {
      "text/plain": [
       "\"I cd'lnout bliveee that I cloud alucalty uasnrtdend what I was riaedng : the peennoahml pwoer of the hmuan mind .\""
      ]
     },
     "execution_count": 1,
     "metadata": {},
     "output_type": "execute_result"
    }
   ],
   "source": [
    "import random\n",
    "string = \"I couldn't believe that I could actually understand what I was reading : the phenomenal power of the human mind .\"\n",
    "def typoglycemia(string):\n",
    "    ans = \"\"\n",
    "    for word in string.split(\" \"):\n",
    "        if len(word) > 4:\n",
    "            indexs = range(1,len(word)-1)\n",
    "            random.shuffle(indexs)\n",
    "            word = word[0] + reduce(lambda x, y: x+y, [word[index] for index in indexs]) + word[-1]\n",
    "        ans = ans + word + \" \"\n",
    "    return ans[:-1]\n",
    "\n",
    "typoglycemia(string)"
   ]
  },
  {
   "cell_type": "markdown",
   "metadata": {},
   "source": [
    "# 第2章: UNIXコマンドの基礎"
   ]
  },
  {
   "cell_type": "markdown",
   "metadata": {},
   "source": [
    "- 高知県\t江川崎\t41\t2013-08-12\n",
    "- 埼玉県\t熊谷\t40.9\t2007-08-16\n",
    "- 岐阜県\t多治見\t40.9\t2007-08-16\n",
    "- 山形県\t山形\t40.8\t1933-07-25\n",
    "- 山梨県\t甲府\t40.7\t2013-08-10\n",
    "- 和歌山県\tかつらぎ\t40.6\t1994-08-08\n",
    "- 静岡県\t天竜\t40.6\t1994-08-04\n",
    "- 山梨県\t勝沼\t40.5\t2013-08-10\n",
    "- 埼玉県\t越谷\t40.4\t2007-08-16\n",
    "- 群馬県\t館林\t40.3\t2007-08-16\n",
    "- 群馬県\t上里見\t40.3\t1998-07-04\n",
    "- 愛知県\t愛西\t40.3\t1994-08-05\n",
    "- 千葉県\t牛久\t40.2\t2004-07-20\n",
    "- 静岡県\t佐久間\t40.2\t2001-07-24\n",
    "- 愛媛県\t宇和島\t40.2\t1927-07-22\n",
    "- 山形県\t酒田\t40.1\t1978-08-03\n",
    "- 岐阜県\t美濃\t40\t2007-08-16\n",
    "- 群馬県\t前橋\t40\t2001-07-24\n",
    "- 千葉県\t茂原\t39.9\t2013-08-11\n",
    "- 埼玉県\t鳩山\t39.9\t1997-07-05\n",
    "- 大阪府\t豊中\t39.9\t1994-08-08\n",
    "- 山梨県\t大月\t39.9\t1990-07-19\n",
    "- 山形県\t鶴岡\t39.9\t1978-08-03\n",
    "- 愛知県\t名古屋\t39.9\t1942-08-02\n",
    "\n",
    "hightemp.txt"
   ]
  },
  {
   "cell_type": "markdown",
   "metadata": {},
   "source": [
    "## 10. 行数のカウント\n",
    "行数をカウントせよ．確認にはwcコマンドを用いよ．\n",
    "\n",
    "`wc -l hightemp.txt`"
   ]
  },
  {
   "cell_type": "code",
   "execution_count": 2,
   "metadata": {
    "collapsed": false
   },
   "outputs": [],
   "source": [
    "def wc(filename):\n",
    "    with open(filename) as f:\n",
    "        for index, line in enumerate(f):\n",
    "            pass\n",
    "    return index + 1"
   ]
  },
  {
   "cell_type": "code",
   "execution_count": 5,
   "metadata": {
    "collapsed": false
   },
   "outputs": [
    {
     "data": {
      "text/plain": [
       "24"
      ]
     },
     "execution_count": 5,
     "metadata": {},
     "output_type": "execute_result"
    }
   ],
   "source": [
    "wc('hightemp.txt')"
   ]
  },
  {
   "cell_type": "markdown",
   "metadata": {},
   "source": [
    "## 11. タブをスペースに置換\n",
    "タブ1文字につきスペース1文字に置換せよ．確認にはsedコマンド，trコマンド，もしくはexpandコマンドを用いよ．\n",
    "\n",
    "* `sed -e 's/\\t/ /g' hightemp.txt`\n",
    "* `cat hightemp.txt | tr '\\t' ' '`\n",
    "* `expand -t 1 hightemp.txt`"
   ]
  },
  {
   "cell_type": "code",
   "execution_count": 4,
   "metadata": {
    "collapsed": false
   },
   "outputs": [],
   "source": [
    "import re\n",
    "with open('hightemp.txt', 'r') as rf, open('hightemp_expand_t1.txt', 'w') as wf:\n",
    "    for line in rf:\n",
    "        line = re.sub(r'\\t', r' ', line)\n",
    "        wf.write(line)"
   ]
  },
  {
   "cell_type": "markdown",
   "metadata": {},
   "source": [
    "## 12. 1列目をcol1.txtに，2列目をcol2.txtに保存\n",
    "各行の1列目だけを抜き出したものをcol1.txtに，2列目だけを抜き出したものをcol2.txtとしてファイルに保存せよ．確認にはcutコマンドを用いよ．\n",
    "\n",
    "`cat hightemp.txt | cut -f 2"
   ]
  },
  {
   "cell_type": "code",
   "execution_count": 8,
   "metadata": {
    "collapsed": true
   },
   "outputs": [],
   "source": [
    "with open('hightemp.txt', 'r') as rf, open('col1.txt', 'w') as col1, open('col2.txt', 'w') as col2:\n",
    "    for line in rf:\n",
    "        tmp = line.split('\\t')\n",
    "        col1.write(tmp[0] + '\\n'); col2.write(tmp[1] + '\\n')"
   ]
  },
  {
   "cell_type": "markdown",
   "metadata": {},
   "source": [
    "## 13. col1.txtとcol2.txtをマージ\n",
    "12で作ったcol1.txtとcol2.txtを結合し，元のファイルの1列目と2列目をタブ区切りで並べたテキストファイルを作成せよ．確認にはpasteコマンドを用いよ．\n",
    "\n",
    "`paste col1.txt col2.txt`"
   ]
  },
  {
   "cell_type": "code",
   "execution_count": 15,
   "metadata": {
    "collapsed": false
   },
   "outputs": [],
   "source": [
    "with open('col1.txt', 'r') as col1, open('col2.txt', 'r') as col2, open('col12.txt', 'w') as col12:\n",
    "    for col1_line, col2_line in zip(col1, col2):\n",
    "        col12.write(col1_line.strip('\\n') + '\\t' + col2_line.strip('\\n') + '\\n')"
   ]
  }
 ],
 "metadata": {
  "kernelspec": {
   "display_name": "Python 2",
   "language": "python",
   "name": "python2"
  },
  "language_info": {
   "codemirror_mode": {
    "name": "ipython",
    "version": 2
   },
   "file_extension": ".py",
   "mimetype": "text/x-python",
   "name": "python",
   "nbconvert_exporter": "python",
   "pygments_lexer": "ipython2",
   "version": "2.7.11"
  }
 },
 "nbformat": 4,
 "nbformat_minor": 0
}
